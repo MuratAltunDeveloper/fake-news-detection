{
 "cells": [
  {
   "cell_type": "code",
   "execution_count": null,
   "id": "0cafc527-a954-42b9-ba17-d7342e1b6091",
   "metadata": {},
   "outputs": [],
   "source": [
    "!pip install textblob\n",
    "!pip install tk\n",
    "\n",
    "\n",
    "import tkinter as tk\n",
    "from tkinter import filedialog\n",
    "from tkinter import messagebox\n",
    "from textblob import TextBlob"
   ]
  },
  {
   "cell_type": "code",
   "execution_count": null,
   "id": "a069da55-511a-4e46-ae5e-eb5083d7f11f",
   "metadata": {},
   "outputs": [],
   "source": [
    "!pip install torch\n",
    "!pip install torchvision\n",
    "!pip install torchaudio\n",
    "!pip install numpy\n",
    "!pip install easyocr\n",
    "\n",
    "\n"
   ]
  },
  {
   "cell_type": "code",
   "execution_count": null,
   "id": "e65c30a9-6332-4ee9-8565-236a5d058c8f",
   "metadata": {},
   "outputs": [],
   "source": [
    "\n",
    "import cv2\n",
    "import numpy as np\n",
    "from PIL import Image\n",
    "import pytesseract\n"
   ]
  },
  {
   "cell_type": "code",
   "execution_count": null,
   "id": "e3ef913a-3368-49af-9514-aac187128318",
   "metadata": {},
   "outputs": [],
   "source": [
    "#ocr kısmı\n",
    "def ocrfonk(dosyayolu):\n",
    "    try:\n",
    "    with Image.open(dosyayolu) as img:\n",
    "        # Görüntüyü OpenCV formatına dönüştür\n",
    "        img_cv = cv2.cvtColor(np.array(img), cv2.COLOR_RGB2BGR)\n",
    "        \n",
    "        # Görüntüyü gri tonlamaya çevir\n",
    "        gray = cv2.cvtColor(img_cv, cv2.COLOR_BGR2GRAY)\n",
    "        \n",
    "        # Gürültüyü azaltmak için blurla\n",
    "        blurred = cv2.GaussianBlur(gray, (5, 5), 0)\n",
    "        \n",
    "        # Kenarları tespit et\n",
    "        edges = cv2.Canny(blurred, 50, 150)\n",
    "        #edges rengini ayarlamaya calısıyorum\n",
    "    \n",
    "        # Tesseract OCR ile metni çıkart\n",
    "        try:\n",
    "         metin = pytesseract.image_to_string(blurred, lang='eng')\n",
    "         print(metin)\n",
    "        except Exception as e:\n",
    "         print(repr(e))\n",
    "        # Konturları bul\n",
    "        contours, _ = cv2.findContours(edges, cv2.RETR_EXTERNAL, cv2.CHAIN_APPROX_SIMPLE)\n",
    "        \n",
    "        # Konturları çiz\n",
    "        cv2.drawContours(img_cv, contours, -1, (0, 254, 0), 2)\n",
    "        \n",
    "        # Görüntüyü göster\n",
    "        cv2.imshow(\"Contoured Image\", img_cv)\n",
    "        cv2.waitKey(0)\n",
    "        cv2.destroyAllWindows()\n",
    "\n",
    "except Exception as e:\n",
    "    print(\"Hata:\", e)\n"
   ]
  },
  {
   "cell_type": "code",
   "execution_count": null,
   "id": "94676d6b-1b93-4b5a-b020-d68b76deb2a0",
   "metadata": {},
   "outputs": [],
   "source": [
    "def masaustundenAl():\n",
    "    # Masaüstünden dosya seçme penceresini aç\n",
    "    file_path = filedialog.askopenfilename(initialdir=\"C:/Users/murat/Desktop\", title=\"Masaüstünden Resim Seç\", filetypes=((\"Image files\", \"*.jpg; *.jpeg; *.png; *.tif; *.tiff\"), (\"all files\", \"*.*\")))\n",
    "\n",
    "    # Seçilen dosyanın yolu eğer boş değilse\n",
    "    if file_path:\n",
    "     ocrfonk(file_path)\n",
    "\n",
    "# Ana pencereyi oluştur\n",
    "root = tk.Tk()\n",
    "root.title(\"Fake News Detector\")\n",
    "\n",
    "# Metin girişi (Text Entry) ve Buton ekranına ekleyin\n",
    "text_entry = tk.Entry(root, width=240)\n",
    "text_entry.pack(pady=10)\n",
    "\n",
    "\n",
    "\n",
    "masaustundenAl_button = tk.Button(root, text=\"Masaüstünden Resim Seç\", command=masaustundenAl)\n",
    "masaustundenAl_button.pack(pady=10)\n",
    "\n",
    "# Pencere boyutunu belirle\n",
    "root.geometry(\"800x600\")\n",
    "\n",
    "# Uygulamayı çalıştır\n",
    "root.mainloop()"
   ]
  },
  {
   "cell_type": "code",
   "execution_count": null,
   "id": "0c6d307d-0f6f-4dc4-89fe-7da37ef70cde",
   "metadata": {},
   "outputs": [],
   "source": []
  },
  {
   "cell_type": "code",
   "execution_count": null,
   "id": "14aa8d83-6025-4153-a4eb-91c1325478ff",
   "metadata": {},
   "outputs": [],
   "source": []
  },
  {
   "cell_type": "code",
   "execution_count": null,
   "id": "3c2be151-ae5a-4ec6-b9a3-7a9b086a1db3",
   "metadata": {},
   "outputs": [],
   "source": []
  }
 ],
 "metadata": {
  "kernelspec": {
   "display_name": "Python 3 (ipykernel)",
   "language": "python",
   "name": "python3"
  },
  "language_info": {
   "codemirror_mode": {
    "name": "ipython",
    "version": 3
   },
   "file_extension": ".py",
   "mimetype": "text/x-python",
   "name": "python",
   "nbconvert_exporter": "python",
   "pygments_lexer": "ipython3",
   "version": "3.11.4"
  }
 },
 "nbformat": 4,
 "nbformat_minor": 5
}
