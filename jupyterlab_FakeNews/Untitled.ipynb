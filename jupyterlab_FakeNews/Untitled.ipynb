{
 "cells": [
  {
   "cell_type": "code",
   "execution_count": 75,
   "id": "e4e9a48c-fa03-4413-b52e-60d5ddc90e1d",
   "metadata": {},
   "outputs": [
    {
     "name": "stdout",
     "output_type": "stream",
     "text": [
      "Defaulting to user installation because normal site-packages is not writeable\n",
      "Requirement already satisfied: scikit-learn in c:\\users\\murat\\appdata\\roaming\\python\\python311\\site-packages (1.3.2)\n",
      "Requirement already satisfied: numpy<2.0,>=1.17.3 in c:\\users\\murat\\appdata\\roaming\\python\\python311\\site-packages (from scikit-learn) (1.26.2)\n",
      "Requirement already satisfied: scipy>=1.5.0 in c:\\users\\murat\\appdata\\roaming\\python\\python311\\site-packages (from scikit-learn) (1.11.4)\n",
      "Requirement already satisfied: joblib>=1.1.1 in c:\\users\\murat\\appdata\\roaming\\python\\python311\\site-packages (from scikit-learn) (1.3.2)\n",
      "Requirement already satisfied: threadpoolctl>=2.0.0 in c:\\users\\murat\\appdata\\roaming\\python\\python311\\site-packages (from scikit-learn) (3.2.0)\n",
      "Defaulting to user installation because normal site-packages is not writeable\n",
      "Requirement already satisfied: pandas in c:\\users\\murat\\appdata\\roaming\\python\\python311\\site-packages (2.2.0)\n",
      "Requirement already satisfied: numpy<2,>=1.23.2 in c:\\users\\murat\\appdata\\roaming\\python\\python311\\site-packages (from pandas) (1.26.2)\n",
      "Requirement already satisfied: python-dateutil>=2.8.2 in c:\\users\\murat\\appdata\\roaming\\python\\python311\\site-packages (from pandas) (2.8.2)\n",
      "Requirement already satisfied: pytz>=2020.1 in c:\\users\\murat\\appdata\\roaming\\python\\python311\\site-packages (from pandas) (2023.3.post1)\n",
      "Requirement already satisfied: tzdata>=2022.7 in c:\\users\\murat\\appdata\\roaming\\python\\python311\\site-packages (from pandas) (2023.4)\n",
      "Requirement already satisfied: six>=1.5 in c:\\users\\murat\\appdata\\roaming\\python\\python311\\site-packages (from python-dateutil>=2.8.2->pandas) (1.16.0)\n"
     ]
    }
   ],
   "source": [
    "!pip install scikit-learn\n",
    "from sklearn.ensemble import RandomForestClassifier\n",
    "\n",
    "\n",
    "!pip install pandas"
   ]
  },
  {
   "cell_type": "code",
   "execution_count": 76,
   "id": "937d244a-8586-46cc-a404-afc83709c936",
   "metadata": {},
   "outputs": [],
   "source": [
    "from sklearn.metrics import accuracy_score\n"
   ]
  },
  {
   "cell_type": "code",
   "execution_count": 77,
   "id": "b0c134cb-64b8-4af3-bff6-8f77ee4ca232",
   "metadata": {},
   "outputs": [],
   "source": [
    "random_forest_model = RandomForestClassifier(n_estimators=100, max_depth=10, random_state=42)\n"
   ]
  },
  {
   "cell_type": "code",
   "execution_count": 78,
   "id": "c3d9c955-2013-4310-99f1-8b239cc9419e",
   "metadata": {},
   "outputs": [
    {
     "name": "stdout",
     "output_type": "stream",
     "text": [
      "oldu\n"
     ]
    }
   ],
   "source": [
    "print(\"oldu\")"
   ]
  },
  {
   "cell_type": "code",
   "execution_count": 79,
   "id": "ea3ded38-0579-470a-a9e6-df7cbe112054",
   "metadata": {},
   "outputs": [],
   "source": [
    "import pandas as pd\n",
    "\n",
    "# True etiketli verilerin dosya yolu\n",
    "true_file_path = r'C:\\Users\\murat\\OneDrive\\Masaüstü\\akillilabaratatil\\fakenewsdataset\\True.csv'\n",
    "\n",
    "# False etiketli verilerin dosya yolu\n",
    "false_file_path = r'C:\\Users\\murat\\OneDrive\\Masaüstü\\akillilabaratatil\\fakenewsdataset\\True.csv'\n",
    "\n",
    "# CSV dosyalarını yükleme\n",
    "true_data = pd.read_csv(true_file_path)\n",
    "false_data = pd.read_csv(false_file_path)\n",
    "\n",
    "\n"
   ]
  },
  {
   "cell_type": "code",
   "execution_count": 80,
   "id": "5055ffd8-6412-402b-82a9-7601edbfca43",
   "metadata": {},
   "outputs": [],
   "source": [
    "#Her iki veri kümesine de bir \"etiket\" sütunu ekledim \"True\" etiketli veriler için bu sütunun değeri 1, \"False\" etiketli veriler için 0 \n",
    "true_data['etiket'] = 1\n",
    "false_data['etiket'] = 0\n"
   ]
  },
  {
   "cell_type": "code",
   "execution_count": 81,
   "id": "d797a5c1-5445-429b-b70a-4e8b38bb6a5f",
   "metadata": {},
   "outputs": [],
   "source": [
    "merged_data = pd.concat([true_data, false_data], ignore_index=True)\n"
   ]
  },
  {
   "cell_type": "code",
   "execution_count": 82,
   "id": "4198e3be-dd5f-46f0-9b76-0857743f00b8",
   "metadata": {},
   "outputs": [],
   "source": [
    "from sklearn.model_selection import train_test_split\n",
    "\n",
    "X_train, X_test, y_train, y_test = train_test_split(\n",
    "    merged_data.drop('etiket', axis=1),  # Özellikler\n",
    "    merged_data['etiket'],  # Etiketler\n",
    "    test_size=0.2,\n",
    "    random_state=42\n",
    ")\n"
   ]
  },
  {
   "cell_type": "code",
   "execution_count": 83,
   "id": "cdf88648-04ba-44e5-b093-034146179161",
   "metadata": {},
   "outputs": [
    {
     "name": "stdout",
     "output_type": "stream",
     "text": [
      "Eğitim veri seti doğruluğu: 0.53999474713281\n",
      "Test veri seti doğruluğu: 0.3400256799346329\n"
     ]
    }
   ],
   "source": [
    "# Metin verilerini sayısal forma çevirme\n",
    "# Metin verilerini sayısal forma çevirme\n",
    "vectorizer = CountVectorizer()\n",
    "X_all_text = vectorizer.fit_transform(merged_data['text'])\n",
    "\n",
    "# Eğitim ve test veri setlerini oluşturma\n",
    "X_train_text, X_test_text, y_train, y_test = train_test_split(\n",
    "    X_all_text,  # Metin verileri\n",
    "    merged_data['etiket'],  # Etiketler\n",
    "    test_size=0.2,\n",
    "    random_state=42\n",
    ")\n",
    "\n",
    "# Rastgele Orman modelini eğitme\n",
    "random_forest_model.fit(X_train_text, y_train)\n",
    "\n",
    "# Eğitim veri seti üzerinde modelin performansını değerlendirme\n",
    "y_train_pred = random_forest_model.predict(X_train_text)\n",
    "accuracy_train = accuracy_score(y_train, y_train_pred)\n",
    "print(\"Eğitim veri seti doğruluğu:\", accuracy_train)\n",
    "\n",
    "# Test veri seti üzerinde modelin performansını değerlendirme\n",
    "y_test_pred = random_forest_model.predict(X_test_text)\n",
    "accuracy_test = accuracy_score(y_test, y_test_pred)\n",
    "print(\"Test veri seti doğruluğu:\", accuracy_test)"
   ]
  },
  {
   "cell_type": "code",
   "execution_count": null,
   "id": "48d9b0ac-1bcd-4e60-b125-49f418df2d63",
   "metadata": {},
   "outputs": [],
   "source": []
  }
 ],
 "metadata": {
  "kernelspec": {
   "display_name": "Python 3 (ipykernel)",
   "language": "python",
   "name": "python3"
  },
  "language_info": {
   "codemirror_mode": {
    "name": "ipython",
    "version": 3
   },
   "file_extension": ".py",
   "mimetype": "text/x-python",
   "name": "python",
   "nbconvert_exporter": "python",
   "pygments_lexer": "ipython3",
   "version": "3.11.4"
  }
 },
 "nbformat": 4,
 "nbformat_minor": 5
}
